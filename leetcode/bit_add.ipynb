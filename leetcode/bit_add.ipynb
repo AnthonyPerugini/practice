{
 "cells": [
  {
   "cell_type": "code",
   "execution_count": 67,
   "id": "f018c77f",
   "metadata": {},
   "outputs": [
    {
     "data": {
      "text/plain": [
       "('0b1111', '0b1100', '0b11', '0b1000')"
      ]
     },
     "execution_count": 67,
     "metadata": {},
     "output_type": "execute_result"
    }
   ],
   "source": [
    "# ddition without the '+'\n",
    "\n",
    "a = 15\n",
    "b = 12\n",
    "\n",
    "c = num1^num2\n",
    "d = (num1&num2) << 1\n",
    "\n",
    "bin(a),bin(b),bin(c),bin(d)"
   ]
  },
  {
   "cell_type": "code",
   "execution_count": 68,
   "id": "9da31ff4",
   "metadata": {},
   "outputs": [],
   "source": [
    "def int_to_bin(x):\n",
    "    return int(bin(x)[2:])\n",
    "\n",
    "def bin_add(a, b):\n",
    "    while b != 0:\n",
    "        next_a = a^b\n",
    "        next_b = (a&b) << 1\n",
    "        a, b = next_a, next_b\n",
    "        \n",
    "    return a"
   ]
  },
  {
   "cell_type": "code",
   "execution_count": 69,
   "id": "642f9c44",
   "metadata": {},
   "outputs": [
    {
     "name": "stdout",
     "output_type": "stream",
     "text": [
      "27\n"
     ]
    }
   ],
   "source": [
    "c = bin_add(a,b)\n",
    "print(c)"
   ]
  },
  {
   "cell_type": "code",
   "execution_count": 77,
   "id": "b8c05d8e",
   "metadata": {},
   "outputs": [
    {
     "data": {
      "text/plain": [
       "3.321928094887363"
      ]
     },
     "execution_count": 77,
     "metadata": {},
     "output_type": "execute_result"
    }
   ],
   "source": [
    "import math\n",
    "math.log(64,2)/math.log(64,10)"
   ]
  },
  {
   "cell_type": "code",
   "execution_count": 73,
   "id": "f2a73fc4",
   "metadata": {},
   "outputs": [
    {
     "data": {
      "text/plain": [
       "3.3219280948873626"
      ]
     },
     "execution_count": 73,
     "metadata": {},
     "output_type": "execute_result"
    }
   ],
   "source": [
    "math.log(10,2)"
   ]
  },
  {
   "cell_type": "markdown",
   "id": "268ebedb",
   "metadata": {},
   "source": [
    "print(a,b)"
   ]
  },
  {
   "cell_type": "code",
   "execution_count": 79,
   "id": "8454c3e9",
   "metadata": {},
   "outputs": [
    {
     "data": {
      "text/plain": [
       "5"
      ]
     },
     "execution_count": 79,
     "metadata": {},
     "output_type": "execute_result"
    }
   ],
   "source": [
    "int('0b101',2)"
   ]
  },
  {
   "cell_type": "code",
   "execution_count": 82,
   "id": "78cfc7e8",
   "metadata": {},
   "outputs": [
    {
     "data": {
      "text/plain": [
       "('0b101', '-0b110')"
      ]
     },
     "execution_count": 82,
     "metadata": {},
     "output_type": "execute_result"
    }
   ],
   "source": [
    "bin(5), bin(~5)"
   ]
  },
  {
   "cell_type": "code",
   "execution_count": 83,
   "id": "b84fb2ec",
   "metadata": {},
   "outputs": [
    {
     "data": {
      "text/plain": [
       "3"
      ]
     },
     "execution_count": 83,
     "metadata": {},
     "output_type": "execute_result"
    }
   ],
   "source": [
    "6^5"
   ]
  },
  {
   "cell_type": "code",
   "execution_count": 99,
   "id": "e8937025",
   "metadata": {},
   "outputs": [
    {
     "data": {
      "text/plain": [
       "('0b1000000', '0b111111')"
      ]
     },
     "execution_count": 99,
     "metadata": {},
     "output_type": "execute_result"
    }
   ],
   "source": [
    "bin(64), bin(63)"
   ]
  },
  {
   "cell_type": "code",
   "execution_count": 105,
   "id": "fa35bcd2",
   "metadata": {},
   "outputs": [
    {
     "data": {
      "text/plain": [
       "7"
      ]
     },
     "execution_count": 105,
     "metadata": {},
     "output_type": "execute_result"
    }
   ],
   "source": [
    "7&7\n"
   ]
  },
  {
   "cell_type": "code",
   "execution_count": 104,
   "id": "e4d7ed66",
   "metadata": {},
   "outputs": [
    {
     "data": {
      "text/plain": [
       "6"
      ]
     },
     "execution_count": 104,
     "metadata": {},
     "output_type": "execute_result"
    }
   ],
   "source": [
    "0^6\n"
   ]
  },
  {
   "cell_type": "code",
   "execution_count": null,
   "id": "bea7c560",
   "metadata": {},
   "outputs": [],
   "source": []
  }
 ],
 "metadata": {
  "kernelspec": {
   "display_name": "Python 3",
   "language": "python",
   "name": "python3"
  },
  "language_info": {
   "codemirror_mode": {
    "name": "ipython",
    "version": 3
   },
   "file_extension": ".py",
   "mimetype": "text/x-python",
   "name": "python",
   "nbconvert_exporter": "python",
   "pygments_lexer": "ipython3",
   "version": "3.9.2"
  }
 },
 "nbformat": 4,
 "nbformat_minor": 5
}

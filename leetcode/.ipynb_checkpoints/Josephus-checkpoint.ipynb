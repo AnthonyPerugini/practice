{
 "cells": [
  {
   "cell_type": "code",
   "execution_count": 1,
   "id": "f9028882",
   "metadata": {},
   "outputs": [],
   "source": [
    "# Josephus problem\n",
    "'''\n",
    "We can imagine a circle of contenstants sitting around a circle.  In every round of the game, we count off k participants,\n",
    "and the kth member is eliminated. The game then resumes from the kth+1 position, and another k participants are counted off.\n",
    "\n",
    "Given n and k, return the winners position in the circle.\n",
    "\n",
    "\n",
    "ex.\n",
    "n = 5\n",
    "k = 2\n",
    "\n",
    "round 1: [1,1,1,1,1] position 1 is eliminated\n",
    "round 2: [1,0,1,1,1] position 3 is eliminated (started count at position 2)\n",
    "round 3: [1,0,1,0,1] position 0 is eliminated (started count at position 4)\n",
    "round 2: [0,0,1,0,1] position 4 is eliminated (started count at position 2)\n",
    "\n",
    "[0,0,1,0,0]\n",
    "winner in position 2! (0 indexed)\n",
    "\n",
    "'''"
   ]
  },
  {
   "cell_type": "code",
   "execution_count": 3,
   "id": "bf8207c6",
   "metadata": {},
   "outputs": [],
   "source": [
    "def dp(n, k):\n",
    "    if n == 1:\n",
    "        return 0\n",
    "    return (dp(n-1, k) + k) % n"
   ]
  },
  {
   "cell_type": "code",
   "execution_count": 4,
   "id": "b497080e",
   "metadata": {},
   "outputs": [
    {
     "data": {
      "text/plain": [
       "2"
      ]
     },
     "execution_count": 4,
     "metadata": {},
     "output_type": "execute_result"
    }
   ],
   "source": [
    "dp(5,2)"
   ]
  },
  {
   "cell_type": "code",
   "execution_count": 29,
   "id": "8f2fb177",
   "metadata": {},
   "outputs": [],
   "source": [
    "import math\n",
    "\n",
    "def dp2(n,k):\n",
    "    if n == 1:\n",
    "        return 0\n",
    "    \n",
    "    if 1 < n < k:\n",
    "        return (dp2(n-1, k) + k) % n\n",
    "    \n",
    "    else:\n",
    "        np = n - n//k\n",
    "        return k * ((dp2(np,k) - n % k) % np) // (k-1)\n",
    "    \n",
    "    "
   ]
  },
  {
   "cell_type": "code",
   "execution_count": 30,
   "id": "ea89f15d",
   "metadata": {},
   "outputs": [
    {
     "data": {
      "text/plain": [
       "762"
      ]
     },
     "execution_count": 30,
     "metadata": {},
     "output_type": "execute_result"
    }
   ],
   "source": [
    "dp(1000,5)"
   ]
  },
  {
   "cell_type": "code",
   "execution_count": 31,
   "id": "269562b2",
   "metadata": {},
   "outputs": [
    {
     "data": {
      "text/plain": [
       "762"
      ]
     },
     "execution_count": 31,
     "metadata": {},
     "output_type": "execute_result"
    }
   ],
   "source": [
    "dp2(1000,5)"
   ]
  },
  {
   "cell_type": "code",
   "execution_count": null,
   "id": "a2f44245",
   "metadata": {},
   "outputs": [],
   "source": []
  }
 ],
 "metadata": {
  "kernelspec": {
   "display_name": "Python 3",
   "language": "python",
   "name": "python3"
  },
  "language_info": {
   "codemirror_mode": {
    "name": "ipython",
    "version": 3
   },
   "file_extension": ".py",
   "mimetype": "text/x-python",
   "name": "python",
   "nbconvert_exporter": "python",
   "pygments_lexer": "ipython3",
   "version": "3.8.5"
  }
 },
 "nbformat": 4,
 "nbformat_minor": 5
}
